{
 "cells": [
  {
   "cell_type": "code",
   "execution_count": 2,
   "metadata": {},
   "outputs": [],
   "source": [
    "import csv\n",
    "import pandas as pd"
   ]
  },
  {
   "cell_type": "code",
   "execution_count": 3,
   "metadata": {},
   "outputs": [],
   "source": [
    "#Read in 2018 data\n",
    "january_df = pd.read_csv('CrimeDataByMonth/January2018.csv')\n",
    "february_df = pd.read_csv('CrimeDataByMonth/February2018.csv')\n",
    "march_df = pd.read_csv('CrimeDataByMonth/March2018.csv')\n",
    "april_df = pd.read_csv('CrimeDataByMonth/April2018.csv')\n",
    "may_df = pd.read_csv('CrimeDataByMonth/May2018.csv')\n",
    "june_df = pd.read_csv('CrimeDataByMonth/June2018.csv')\n",
    "\n",
    "#Create 2018 pd and then csv\n",
    "frames_2018 = [january_df, february_df, march_df,april_df, may_df, june_df ]\n",
    "\n",
    "crimes_2018_df = pd.concat(frames_2018)\n",
    "crimes_2018_df.to_csv(\"stl_crime_data_2018_thru_June\")"
   ]
  }
 ],
 "metadata": {
  "kernelspec": {
   "display_name": "Python 3",
   "language": "python",
   "name": "python3"
  },
  "language_info": {
   "codemirror_mode": {
    "name": "ipython",
    "version": 3
   },
   "file_extension": ".py",
   "mimetype": "text/x-python",
   "name": "python",
   "nbconvert_exporter": "python",
   "pygments_lexer": "ipython3",
   "version": "3.6.5"
  }
 },
 "nbformat": 4,
 "nbformat_minor": 2
}
